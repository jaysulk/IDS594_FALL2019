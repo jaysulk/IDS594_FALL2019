{
 "cells": [
  {
   "cell_type": "code",
   "execution_count": 1,
   "metadata": {},
   "outputs": [],
   "source": [
    "import numpy as np"
   ]
  },
  {
   "cell_type": "code",
   "execution_count": 2,
   "metadata": {},
   "outputs": [],
   "source": [
    "alpha = 0.01 \n",
    "m = 200 \n",
    "x = np.zeros(m)\n",
    "x[0] = 3\n",
    "b=np.random.uniform(-100,100,200)\n",
    "for k in range(1,m):\n",
    "    c = [np.random.choice(b, 1),np.random.choice(b, 1)]\n",
    "    if c[0][0]*x[k]>0 and c[1][0]*x[k]>0 :\n",
    "        x[k] = x[k-1] - alpha * c[0][0]*x[k] - alpha * c[1][0]*x[k]\n",
    "    else:\n",
    "        x[k] = x[k-1]"
   ]
  },
  {
   "cell_type": "code",
   "execution_count": null,
   "metadata": {},
   "outputs": [],
   "source": [
    "alpha = 0.01 \n",
    "m = 200 \n",
    "x = np.zeros(m)\n",
    "x[0] = 3\n",
    "phi[0,0] = x[0]\n",
    "b=np.random.uniform(-100,100,200)\n",
    "for k in range(1,m):\n",
    "    for i in range(1,m):\n",
    "        c = [np.random.choice(b, 1),np.random.choice(b, 1)]\n",
    "        if c[i][0]*phi[i-1,k]>0:\n",
    "            phi[i,k]=phi[i-1,k]-alpha * c[i][0]\n",
    "        else:\n",
    "            phi[i,k]=phi[i-1,k]\n",
    "        x[k]=phi[i,k]"
   ]
  }
 ],
 "metadata": {
  "kernelspec": {
   "display_name": "Python 3",
   "language": "python",
   "name": "python3"
  },
  "language_info": {
   "codemirror_mode": {
    "name": "ipython",
    "version": 2
   },
   "file_extension": ".py",
   "mimetype": "text/x-python",
   "name": "python",
   "nbconvert_exporter": "python",
   "pygments_lexer": "ipython2",
   "version": "2.7.16"
  }
 },
 "nbformat": 4,
 "nbformat_minor": 2
}
